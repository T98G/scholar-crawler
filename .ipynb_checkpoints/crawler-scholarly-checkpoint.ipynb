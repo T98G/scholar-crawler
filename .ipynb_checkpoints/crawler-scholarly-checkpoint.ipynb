{
 "cells": [
  {
   "cell_type": "code",
   "execution_count": 35,
   "id": "299871bb",
   "metadata": {},
   "outputs": [],
   "source": [
    "from scholarly import scholarly\n",
    "import requests\n",
    "import re\n",
    "from bs4 import BeautifulSoup\n",
    "from selenium import webdriver\n",
    "import pandas as pd\n",
    "search = scholarly.search_pubs(\"Antimicrobial Peptide Molecular Dinamics\")    "
   ]
  },
  {
   "cell_type": "code",
   "execution_count": 2,
   "id": "f9a748d6",
   "metadata": {},
   "outputs": [],
   "source": [
    "def get_first_n_pubs(query, n):\n",
    "    \"\"\"Create a list of dictionaries with the first n publications data\"\"\"\n",
    "    ## Must be done with next() since query is an iterator and \n",
    "    ## It's not subscriptable \n",
    "    return [next(query) for i in range(0, n)] "
   ]
  },
  {
   "cell_type": "code",
   "execution_count": 36,
   "id": "dfd816a3",
   "metadata": {},
   "outputs": [],
   "source": [
    "pubs = get_first_n_pubs(search, 2)\n",
    "r =  requests.Session()\n",
    "r = r.get(pubs[1][\"pub_url\"], headers=HEADERS)\n",
    "\n",
    "dr = webdriver.Chrome()\n",
    "dr.get(pubs[1][\"pub_url\"])"
   ]
  },
  {
   "cell_type": "code",
   "execution_count": 141,
   "id": "6404a03d",
   "metadata": {},
   "outputs": [
    {
     "name": "stdout",
     "output_type": "stream",
     "text": [
      "https://journals.asm.org/doi/abs/10.1128/IAI.00703-20\n",
      "True\n"
     ]
    }
   ],
   "source": [
    "print(pubs[1][\"pub_url\"])\n",
    "\n",
    "HEADERS = {\n",
    "        \"User-Agent\": \"Mozilla/5.0 (Windows NT 10.0; Win64; x64; rv:98.0) Gecko/20100101 Firefox/98.0\",\n",
    "        \"Accept\": \"text/html,application/xhtml+xml,application/xml;q=0.9,image/avif,image/webp,*/*;q=0.8\",\n",
    "        \"Accept-Language\": \"en-US,en;q=0.5\",\n",
    "        \"Accept-Encoding\": \"gzip, deflate\",\n",
    "        \"Connection\": \"keep-alive\",\n",
    "        \"Upgrade-Insecure-Requests\": \"1\",\n",
    "        \"Sec-Fetch-Dest\": \"document\",\n",
    "        \"Sec-Fetch-Mode\": \"navigate\",\n",
    "        \"Sec-Fetch-Site\": \"none\",\n",
    "        \"Sec-Fetch-User\": \"?1\",\n",
    "        \"Cache-Control\": \"max-age=0\",\n",
    "    }\n",
    "\n",
    "\n",
    "\n",
    "contents = BeautifulSoup(dr.page_source,\"lxml\")\n",
    "\n",
    "text = \"\"\n",
    "\n",
    "for line in contents:\n",
    "    text += line.get_text(\"\\n\")\n",
    "    \n",
    "split = text.split(\"\\n\")\n",
    "\n",
    "clean = \"\\n\"\n",
    "\n",
    "for line in split:\n",
    "    if line != \"\" or line != '':\n",
    "        clean += line\n",
    "\n",
    "for line in clean.split(\"\\n\"):\n",
    "    if \"keywords\" in line.lower():\n",
    "        print(\"molecular dynamics\" in line) and (\"membrane\" in line)\n",
    "                    "
   ]
  },
  {
   "cell_type": "code",
   "execution_count": null,
   "id": "9cee9190",
   "metadata": {},
   "outputs": [],
   "source": [
    "## Lets Make it object oriented!!!!"
   ]
  },
  {
   "cell_type": "code",
   "execution_count": null,
   "id": "63dc8b8b",
   "metadata": {},
   "outputs": [],
   "source": [
    "class Paper:\n",
    "    def __init__(self, url):\n",
    "        self.url = url\n",
    "        self.priority = 0\n",
    "    "
   ]
  }
 ],
 "metadata": {
  "kernelspec": {
   "display_name": "Python 3 (ipykernel)",
   "language": "python",
   "name": "python3"
  },
  "language_info": {
   "codemirror_mode": {
    "name": "ipython",
    "version": 3
   },
   "file_extension": ".py",
   "mimetype": "text/x-python",
   "name": "python",
   "nbconvert_exporter": "python",
   "pygments_lexer": "ipython3",
   "version": "3.10.2"
  }
 },
 "nbformat": 4,
 "nbformat_minor": 5
}
