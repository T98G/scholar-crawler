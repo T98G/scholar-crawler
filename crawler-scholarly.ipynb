{
 "cells": [
  {
   "cell_type": "code",
   "execution_count": 1,
   "id": "299871bb",
   "metadata": {},
   "outputs": [],
   "source": [
    "from scholarly import scholarly\n",
    "import requests\n",
    "import re\n",
    "from bs4 import BeautifulSoup\n",
    "from selenium import webdriver\n",
    "import pandas as pd\n",
    "search = scholarly.search_pubs(\"Antimicrobial Peptide Molecular Dinamics\")    "
   ]
  },
  {
   "cell_type": "code",
   "execution_count": 2,
   "id": "f9a748d6",
   "metadata": {},
   "outputs": [],
   "source": [
    "def get_first_n_pubs(query, n):\n",
    "    \"\"\"Create a list of dictionaries with the first n publications data\"\"\"\n",
    "    ## Must be done with next() since query is an iterator and \n",
    "    ## It's not subscriptable \n",
    "    return [next(query) for i in range(0, n)] "
   ]
  },
  {
   "cell_type": "code",
   "execution_count": 26,
   "id": "dfd816a3",
   "metadata": {},
   "outputs": [],
   "source": [
    "pubs = get_first_n_pubs(search, 2)\n",
    "#r =  requests.Session()\n",
    "\n",
    "HEADERS = {\n",
    "        \"User-Agent\": \"Mozilla/5.0 (Windows NT 10.0; Win64; x64; rv:98.0) Gecko/20100101 Firefox/98.0\",\n",
    "        \"Accept\": \"text/html,application/xhtml+xml,application/xml;q=0.9,image/avif,image/webp,*/*;q=0.8\",\n",
    "        \"Accept-Language\": \"en-US,en;q=0.5\",\n",
    "        \"Accept-Encoding\": \"gzip, deflate\",\n",
    "        \"Connection\": \"keep-alive\",\n",
    "        \"Upgrade-Insecure-Requests\": \"1\",\n",
    "        \"Sec-Fetch-Dest\": \"document\",\n",
    "        \"Sec-Fetch-Mode\": \"navigate\",\n",
    "        \"Sec-Fetch-Site\": \"none\",\n",
    "        \"Sec-Fetch-User\": \"?1\",\n",
    "        \"Cache-Control\": \"max-age=0\",\n",
    "    }\n",
    "\n",
    "\n",
    "#r = r.get(pubs[1][\"pub_url\"], headers=HEADERS).\n",
    "dr = webdriver.Chrome()\n",
    "\n",
    "#dr.get(pubs[1][\"pub_url\"])\n",
    "\n",
    "dr.get(\"https://www.sciencedirect.com/science/article/pii/S0005273614001448\")"
   ]
  },
  {
   "cell_type": "code",
   "execution_count": 27,
   "id": "6404a03d",
   "metadata": {
    "scrolled": true
   },
   "outputs": [
    {
     "name": "stdout",
     "output_type": "stream",
     "text": [
      "Copyright © 2013 Els\n",
      "2013\n"
     ]
    }
   ],
   "source": [
    "contents = BeautifulSoup(dr.page_source,\"lxml\")\n",
    "\n",
    "text = contents.get_text()\n",
    "\n",
    "dr.close()\n",
    "\n",
    "start = text.lower().find(\"copyright\")\n",
    "end = start + 20\n",
    "\n",
    "print(text[start:end])\n",
    "\n",
    "print(re.findall(r'\\d+', text[start:end])[0])\n",
    "\n",
    "\n",
    "for line in contents.get_text().split(\"\\n\"):\n",
    "    if \"keywords:\" in line.lower():\n",
    "        print(line)\n",
    "            \n",
    "        if len(line) > 50:\n",
    "            end = 50\n",
    "        else:\n",
    "            end = len(line)\n",
    "            \n",
    "        if (\"molecular dynamics\" in line[line.find(\"keywords\"): line.find(\"keywords\") + end]) and (\"membrane\" in line[line.find(\"keywords\"): end]):\n",
    "            print(line[line.find(\"keywords\"): line.find(\"keywords\") + end])\n",
    "                    "
   ]
  },
  {
   "cell_type": "code",
   "execution_count": null,
   "id": "9cee9190",
   "metadata": {},
   "outputs": [],
   "source": [
    "## Lets Make it object oriented!!!!"
   ]
  },
  {
   "cell_type": "code",
   "execution_count": null,
   "id": "63dc8b8b",
   "metadata": {},
   "outputs": [],
   "source": [
    "## Going to use object orientation to keep publications data organized\n",
    "## Not going to make the whole script object oriented though\n",
    "\n",
    "def get_first_n_papers(query, n):\n",
    "    \"\"\"Create a list of dictionaries with the first n publications data\"\"\"\n",
    "    ## Must be done with next() since query is an iterator and \n",
    "    ## It's not subscriptable \n",
    "    return [next(query) for i in range(0, n)] \n",
    "    \n",
    "def read(url):\n",
    "    wd = webdriver.Chrome()\n",
    "    wd.get(url)\n",
    "    text = BeautifulSoup(dr.page_source,\"lxml\").get_text()\n",
    "    wd.close()\n",
    "    return text\n",
    "    \n",
    "def get_urls(papers):\n",
    "    return [paper[\"pub_url\"] for paper in papers]\n",
    "\n",
    "## -> lst.sort(key=lambda x: x.priority)\n",
    "\n",
    "class Paper:\n",
    "    def __init__(self, url):\n",
    "        self.url = url\n",
    "        self.priority = 0\n",
    "        self.text = None\n",
    "        self.key_words = None\n",
    "        self.year = None\n",
    "    \n",
    "    def get_year(self):\n",
    "        start = self.text.lower().find(\"copyright\")\n",
    "        end = start + 20\n",
    "        self.year = re.findall(r'\\d+', text[start:end])[0]\n",
    "        \n",
    "    def get_key_words(self):\n",
    "        for line in clean.split(\"\\n\"):\n",
    "            if \"keywords\" in line.lower():\n",
    "                self.key_words = line\n",
    "    \n",
    "    def key_words_filter(self, filter_words):\n",
    "        for word in filter_words:\n",
    "            if word in self.key_words:\n",
    "                self.priority += 1\n",
    "    \n",
    "    def norm_priority(self):\n",
    "        self.priority = self.priority % 10\n",
    "        \n"
   ]
  }
 ],
 "metadata": {
  "kernelspec": {
   "display_name": "Python 3 (ipykernel)",
   "language": "python",
   "name": "python3"
  },
  "language_info": {
   "codemirror_mode": {
    "name": "ipython",
    "version": 3
   },
   "file_extension": ".py",
   "mimetype": "text/x-python",
   "name": "python",
   "nbconvert_exporter": "python",
   "pygments_lexer": "ipython3",
   "version": "3.10.2"
  }
 },
 "nbformat": 4,
 "nbformat_minor": 5
}
